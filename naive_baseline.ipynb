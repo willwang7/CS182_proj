{
 "cells": [
  {
   "cell_type": "code",
   "execution_count": null,
   "metadata": {},
   "outputs": [],
   "source": [
    "# ONLY run these 3 blocks (above imports) in Google Colab\n",
    "\n",
    "# Uncomment the following two lines every runtime\n",
    "# !pip uninstall gensim\n",
    "# !pip install gensim"
   ]
  },
  {
   "cell_type": "code",
   "execution_count": 3,
   "metadata": {
    "colab": {
     "base_uri": "https://localhost:8080/"
    },
    "executionInfo": {
     "elapsed": 580,
     "status": "ok",
     "timestamp": 1620189171693,
     "user": {
      "displayName": "Will Wang",
      "photoUrl": "https://lh3.googleusercontent.com/a-/AOh14Gj1eoGgvQ7qj1ob3o2yAXUkB3bQZRzcxJjwvBgX=s64",
      "userId": "01613330058416384277"
     },
     "user_tz": 420
    },
    "id": "uyoDWJVm0_DC",
    "outputId": "788c0f29-b181-4313-9603-f22ccd29f2f6"
   },
   "outputs": [
    {
     "name": "stdout",
     "output_type": "stream",
     "text": [
      "Drive already mounted at /content/drive; to attempt to forcibly remount, call drive.mount(\"/content/drive\", force_remount=True).\n"
     ]
    }
   ],
   "source": [
    "from google.colab import drive\n",
    "drive.mount('/content/drive')"
   ]
  },
  {
   "cell_type": "code",
   "execution_count": null,
   "metadata": {},
   "outputs": [],
   "source": [
    "# Make sure using GPU throught \"Edit-Notebook settings\"\n",
    "print(\"Num GPUs Available: \", len(tf.config.list_physical_devices('GPU')))"
   ]
  },
  {
   "cell_type": "code",
   "execution_count": 3,
   "metadata": {
    "colab": {
     "base_uri": "https://localhost:8080/"
    },
    "executionInfo": {
     "elapsed": 2499,
     "status": "ok",
     "timestamp": 1620189167877,
     "user": {
      "displayName": "Will Wang",
      "photoUrl": "https://lh3.googleusercontent.com/a-/AOh14Gj1eoGgvQ7qj1ob3o2yAXUkB3bQZRzcxJjwvBgX=s64",
      "userId": "01613330058416384277"
     },
     "user_tz": 420
    },
    "id": "sVXTKNrq05ot",
    "outputId": "b3b8b1b9-e821-4163-923a-ee2cab82187d"
   },
   "outputs": [],
   "source": [
    "from gensim.models import Word2Vec\n",
    "import pandas as pd\n",
    "import matplotlib as plt\n",
    "import seaborn as sns\n",
    "import numpy as np\n",
    "import tensorflow as tf\n",
    "import re\n",
    "from tensorflow import keras\n",
    "from tensorflow.keras import layers\n",
    "from sklearn.model_selection import train_test_split"
   ]
  },
  {
   "cell_type": "code",
   "execution_count": 5,
   "metadata": {
    "colab": {
     "base_uri": "https://localhost:8080/",
     "height": 279
    },
    "executionInfo": {
     "elapsed": 4619,
     "status": "ok",
     "timestamp": 1620189181810,
     "user": {
      "displayName": "Will Wang",
      "photoUrl": "https://lh3.googleusercontent.com/a-/AOh14Gj1eoGgvQ7qj1ob3o2yAXUkB3bQZRzcxJjwvBgX=s64",
      "userId": "01613330058416384277"
     },
     "user_tz": 420
    },
    "id": "P12VpNti05o0",
    "outputId": "03c53079-4481-4638-9b66-5b7b78180cd4"
   },
   "outputs": [
    {
     "data": {
      "image/png": "[encoded data removed]",
      "text/plain": [
       "<Figure size 432x288 with 1 Axes>"
      ]
     },
     "metadata": {
      "needs_background": "light"
     },
     "output_type": "display_data"
    }
   ],
   "source": [
    "# Google Colab\n",
    "# yelp = pd.read_json('/content/drive/MyDrive/cs182_proj/yelp_review_training_dataset.jsonl', lines=True)\n",
    "# Locally\n",
    "yelp = pd.read_json('./yelp_review_training_dataset.jsonl', lines=True)\n",
    "yelp.head()\n",
    "stars = yelp['stars'].values\n",
    "ax = sns.countplot(x=\"stars\",data=yelp)"
   ]
  },
  {
   "cell_type": "code",
   "execution_count": 6,
   "metadata": {
    "colab": {
     "base_uri": "https://localhost:8080/"
    },
    "executionInfo": {
     "elapsed": 662,
     "status": "ok",
     "timestamp": 1620189207625,
     "user": {
      "displayName": "Will Wang",
      "photoUrl": "https://lh3.googleusercontent.com/a-/AOh14Gj1eoGgvQ7qj1ob3o2yAXUkB3bQZRzcxJjwvBgX=s64",
      "userId": "01613330058416384277"
     },
     "user_tz": 420
    },
    "id": "SCh79oP6zUAG",
    "outputId": "661b2f7d-45f0-4b33-af1e-3b568c53d92b"
   },
   "outputs": [
    {
     "data": {
      "text/plain": [
       "(533581, 3)"
      ]
     },
     "execution_count": 6,
     "metadata": {},
     "output_type": "execute_result"
    }
   ],
   "source": [
    "yelp.shape"
   ]
  },
  {
   "cell_type": "code",
   "execution_count": 7,
   "metadata": {
    "colab": {
     "base_uri": "https://localhost:8080/",
     "height": 419
    },
    "executionInfo": {
     "elapsed": 589,
     "status": "ok",
     "timestamp": 1620189212619,
     "user": {
      "displayName": "Will Wang",
      "photoUrl": "https://lh3.googleusercontent.com/a-/AOh14Gj1eoGgvQ7qj1ob3o2yAXUkB3bQZRzcxJjwvBgX=s64",
      "userId": "01613330058416384277"
     },
     "user_tz": 420
    },
    "id": "gWEFzRwm05o1",
    "outputId": "e3a04065-ed97-490f-f679-acd6adb158e9"
   },
   "outputs": [
    {
     "data": {
      "text/html": [
       "<div>\n",
       "<style scoped>\n",
       "    .dataframe tbody tr th:only-of-type {\n",
       "        vertical-align: middle;\n",
       "    }\n",
       "\n",
       "    .dataframe tbody tr th {\n",
       "        vertical-align: top;\n",
       "    }\n",
       "\n",
       "    .dataframe thead th {\n",
       "        text-align: right;\n",
       "    }\n",
       "</style>\n",
       "<table border=\"1\" class=\"dataframe\">\n",
       "  <thead>\n",
       "    <tr style=\"text-align: right;\">\n",
       "      <th></th>\n",
       "      <th>review_id</th>\n",
       "      <th>text</th>\n",
       "      <th>stars</th>\n",
       "    </tr>\n",
       "  </thead>\n",
       "  <tbody>\n",
       "    <tr>\n",
       "      <td>0</td>\n",
       "      <td>Q1sbwvVQXV2734tPgoKj4Q</td>\n",
       "      <td>Total bill for this horrible service? Over $8G...</td>\n",
       "      <td>1</td>\n",
       "    </tr>\n",
       "    <tr>\n",
       "      <td>1</td>\n",
       "      <td>GJXCdrto3ASJOqKeVWPi6Q</td>\n",
       "      <td>I *adore* Travis at the Hard Rock's new Kelly ...</td>\n",
       "      <td>5</td>\n",
       "    </tr>\n",
       "    <tr>\n",
       "      <td>2</td>\n",
       "      <td>2TzJjDVDEuAW6MR5Vuc1ug</td>\n",
       "      <td>I have to say that this office really has it t...</td>\n",
       "      <td>5</td>\n",
       "    </tr>\n",
       "    <tr>\n",
       "      <td>3</td>\n",
       "      <td>yi0R0Ugj_xUx_Nek0-_Qig</td>\n",
       "      <td>Went in for a lunch. Steak sandwich was delici...</td>\n",
       "      <td>5</td>\n",
       "    </tr>\n",
       "    <tr>\n",
       "      <td>4</td>\n",
       "      <td>11a8sVPMUFtaC7_ABRkmtw</td>\n",
       "      <td>Today was my second out of three sessions I ha...</td>\n",
       "      <td>1</td>\n",
       "    </tr>\n",
       "    <tr>\n",
       "      <td>...</td>\n",
       "      <td>...</td>\n",
       "      <td>...</td>\n",
       "      <td>...</td>\n",
       "    </tr>\n",
       "    <tr>\n",
       "      <td>533576</td>\n",
       "      <td>2vQO_kmSr6YPBrR8GH_FPA</td>\n",
       "      <td>Dr Young and her assistants take obvious pride...</td>\n",
       "      <td>5</td>\n",
       "    </tr>\n",
       "    <tr>\n",
       "      <td>533577</td>\n",
       "      <td>DUdLTGVpgsi0sv_g4A5ITQ</td>\n",
       "      <td>We started our 20 month of daughter here on an...</td>\n",
       "      <td>5</td>\n",
       "    </tr>\n",
       "    <tr>\n",
       "      <td>533578</td>\n",
       "      <td>AKGELpRNTTXajuZHbPxdJg</td>\n",
       "      <td>First of all, they are supposed to open at 9:0...</td>\n",
       "      <td>2</td>\n",
       "    </tr>\n",
       "    <tr>\n",
       "      <td>533579</td>\n",
       "      <td>ghYZM7lqzjej05I_T3vYyA</td>\n",
       "      <td>It's not often that you visit a company and th...</td>\n",
       "      <td>5</td>\n",
       "    </tr>\n",
       "    <tr>\n",
       "      <td>533580</td>\n",
       "      <td>gupUBwWRb13IvQhlKd6wdg</td>\n",
       "      <td>We had great experience with quest limos this ...</td>\n",
       "      <td>5</td>\n",
       "    </tr>\n",
       "  </tbody>\n",
       "</table>\n",
       "<p>533581 rows × 3 columns</p>\n",
       "</div>"
      ],
      "text/plain": [
       "                     review_id  \\\n",
       "0       Q1sbwvVQXV2734tPgoKj4Q   \n",
       "1       GJXCdrto3ASJOqKeVWPi6Q   \n",
       "2       2TzJjDVDEuAW6MR5Vuc1ug   \n",
       "3       yi0R0Ugj_xUx_Nek0-_Qig   \n",
       "4       11a8sVPMUFtaC7_ABRkmtw   \n",
       "...                        ...   \n",
       "533576  2vQO_kmSr6YPBrR8GH_FPA   \n",
       "533577  DUdLTGVpgsi0sv_g4A5ITQ   \n",
       "533578  AKGELpRNTTXajuZHbPxdJg   \n",
       "533579  ghYZM7lqzjej05I_T3vYyA   \n",
       "533580  gupUBwWRb13IvQhlKd6wdg   \n",
       "\n",
       "                                                     text  stars  \n",
       "0       Total bill for this horrible service? Over $8G...      1  \n",
       "1       I *adore* Travis at the Hard Rock's new Kelly ...      5  \n",
       "2       I have to say that this office really has it t...      5  \n",
       "3       Went in for a lunch. Steak sandwich was delici...      5  \n",
       "4       Today was my second out of three sessions I ha...      1  \n",
       "...                                                   ...    ...  \n",
       "533576  Dr Young and her assistants take obvious pride...      5  \n",
       "533577  We started our 20 month of daughter here on an...      5  \n",
       "533578  First of all, they are supposed to open at 9:0...      2  \n",
       "533579  It's not often that you visit a company and th...      5  \n",
       "533580  We had great experience with quest limos this ...      5  \n",
       "\n",
       "[533581 rows x 3 columns]"
      ]
     },
     "execution_count": 7,
     "metadata": {},
     "output_type": "execute_result"
    }
   ],
   "source": [
    "yelp[yelp.stars.notnull()]"
   ]
  },
  {
   "cell_type": "code",
   "execution_count": 8,
   "metadata": {
    "colab": {
     "base_uri": "https://localhost:8080/",
     "height": 52
    },
    "executionInfo": {
     "elapsed": 657,
     "status": "ok",
     "timestamp": 1620189215299,
     "user": {
      "displayName": "Will Wang",
      "photoUrl": "https://lh3.googleusercontent.com/a-/AOh14Gj1eoGgvQ7qj1ob3o2yAXUkB3bQZRzcxJjwvBgX=s64",
      "userId": "01613330058416384277"
     },
     "user_tz": 420
    },
    "id": "MERQzYX305o2",
    "outputId": "352db3ac-1409-4f9a-ec18-9083294ee2ba"
   },
   "outputs": [
    {
     "data": {
      "text/plain": [
       "'Total bill for this horrible service? Over $8Gs. These crooks actually had the nerve to charge us $69 for 3 pills. I checked online the pills can be had for 19 cents EACH! Avoid Hospital ERs at all costs.'"
      ]
     },
     "execution_count": 8,
     "metadata": {},
     "output_type": "execute_result"
    }
   ],
   "source": [
    "x_train = yelp['text'].values\n",
    "x_train[0]"
   ]
  },
  {
   "cell_type": "code",
   "execution_count": 10,
   "metadata": {
    "colab": {
     "base_uri": "https://localhost:8080/"
    },
    "executionInfo": {
     "elapsed": 703,
     "status": "ok",
     "timestamp": 1620189217247,
     "user": {
      "displayName": "Will Wang",
      "photoUrl": "https://lh3.googleusercontent.com/a-/AOh14Gj1eoGgvQ7qj1ob3o2yAXUkB3bQZRzcxJjwvBgX=s64",
      "userId": "01613330058416384277"
     },
     "user_tz": 420
    },
    "id": "gNVeNlwZ05o2",
    "outputId": "1dbe133b-cd50-4d99-ef0a-21fb7eb4e353"
   },
   "outputs": [
    {
     "data": {
      "text/plain": [
       "'Total'"
      ]
     },
     "execution_count": 10,
     "metadata": {},
     "output_type": "execute_result"
    }
   ],
   "source": [
    "symbol = r'\\w+|[^\\s\\w]+'\n",
    "res = re.findall( symbol, x_train[0])\n",
    "res[0]"
   ]
  },
  {
   "cell_type": "code",
   "execution_count": 11,
   "metadata": {
    "executionInfo": {
     "elapsed": 21205,
     "status": "ok",
     "timestamp": 1620189284637,
     "user": {
      "displayName": "Will Wang",
      "photoUrl": "https://lh3.googleusercontent.com/a-/AOh14Gj1eoGgvQ7qj1ob3o2yAXUkB3bQZRzcxJjwvBgX=s64",
      "userId": "01613330058416384277"
     },
     "user_tz": 420
    },
    "id": "LbcQz92f05o3"
   },
   "outputs": [
    {
     "name": "stderr",
     "output_type": "stream",
     "text": [
      "/Users/will/opt/anaconda3/lib/python3.7/site-packages/ipykernel_launcher.py:2: VisibleDeprecationWarning: Creating an ndarray from ragged nested sequences (which is a list-or-tuple of lists-or-tuples-or ndarrays with different lengths or shapes) is deprecated. If you meant to do this, you must specify 'dtype=object' when creating the ndarray\n",
      "  \n"
     ]
    }
   ],
   "source": [
    "training = [re.findall( symbol, i) for i in x_train]\n",
    "training = np.array(training)"
   ]
  },
  {
   "cell_type": "code",
   "execution_count": 12,
   "metadata": {
    "colab": {
     "base_uri": "https://localhost:8080/"
    },
    "executionInfo": {
     "elapsed": 7718,
     "status": "ok",
     "timestamp": 1620189287775,
     "user": {
      "displayName": "Will Wang",
      "photoUrl": "https://lh3.googleusercontent.com/a-/AOh14Gj1eoGgvQ7qj1ob3o2yAXUkB3bQZRzcxJjwvBgX=s64",
      "userId": "01613330058416384277"
     },
     "user_tz": 420
    },
    "id": "uLw5lVyD05o3",
    "outputId": "bc824157-391d-429f-ca69-8f62f1b85e81"
   },
   "outputs": [
    {
     "name": "stdout",
     "output_type": "stream",
     "text": [
      "106716\n"
     ]
    }
   ],
   "source": [
    "training = list(training)\n",
    "first_part = round(len(training) * 0.2)\n",
    "print(first_part)"
   ]
  },
  {
   "cell_type": "code",
   "execution_count": 13,
   "metadata": {
    "executionInfo": {
     "elapsed": 86140,
     "status": "ok",
     "timestamp": 1620189366887,
     "user": {
      "displayName": "Will Wang",
      "photoUrl": "https://lh3.googleusercontent.com/a-/AOh14Gj1eoGgvQ7qj1ob3o2yAXUkB3bQZRzcxJjwvBgX=s64",
      "userId": "01613330058416384277"
     },
     "user_tz": 420
    },
    "id": "yxvBNbA-05o4"
   },
   "outputs": [
    {
     "data": {
      "text/plain": [
       "'.'"
      ]
     },
     "execution_count": 13,
     "metadata": {},
     "output_type": "execute_result"
    }
   ],
   "source": [
    "self_model = Word2Vec(training[:first_part], min_count=1)\n",
    "training_sample = [[self_model.wv.key_to_index[word] for word in sentence] for sentence in training[:first_part]]\n",
    "self_model.wv.index_to_key[0]"
   ]
  },
  {
   "cell_type": "code",
   "execution_count": 14,
   "metadata": {
    "executionInfo": {
     "elapsed": 577,
     "status": "ok",
     "timestamp": 1620189415845,
     "user": {
      "displayName": "Will Wang",
      "photoUrl": "https://lh3.googleusercontent.com/a-/AOh14Gj1eoGgvQ7qj1ob3o2yAXUkB3bQZRzcxJjwvBgX=s64",
      "userId": "01613330058416384277"
     },
     "user_tz": 420
    },
    "id": "oM8aRDtm05o5"
   },
   "outputs": [
    {
     "name": "stderr",
     "output_type": "stream",
     "text": [
      "/Users/will/opt/anaconda3/lib/python3.7/site-packages/ipykernel_launcher.py:2: VisibleDeprecationWarning: Creating an ndarray from ragged nested sequences (which is a list-or-tuple of lists-or-tuples-or ndarrays with different lengths or shapes) is deprecated. If you meant to do this, you must specify 'dtype=object' when creating the ndarray\n",
      "  \n"
     ]
    }
   ],
   "source": [
    "y = np.array(stars[:first_part])\n",
    "training_sample = np.array(training_sample)\n",
    "train_x, val_x, train_y, val_y = train_test_split(training_sample, y, test_size=0.3, random_state=42)"
   ]
  },
  {
   "cell_type": "code",
   "execution_count": 15,
   "metadata": {
    "executionInfo": {
     "elapsed": 2244,
     "status": "ok",
     "timestamp": 1620189516137,
     "user": {
      "displayName": "Will Wang",
      "photoUrl": "https://lh3.googleusercontent.com/a-/AOh14Gj1eoGgvQ7qj1ob3o2yAXUkB3bQZRzcxJjwvBgX=s64",
      "userId": "01613330058416384277"
     },
     "user_tz": 420
    },
    "id": "9yxr89Zh05o5"
   },
   "outputs": [],
   "source": [
    "maxlen = 200\n",
    "train_x = keras.preprocessing.sequence.pad_sequences(train_x, maxlen=maxlen)\n",
    "val_x = keras.preprocessing.sequence.pad_sequences(val_x, maxlen=maxlen)"
   ]
  },
  {
   "cell_type": "code",
   "execution_count": 16,
   "metadata": {
    "executionInfo": {
     "elapsed": 5773,
     "status": "ok",
     "timestamp": 1620189537974,
     "user": {
      "displayName": "Will Wang",
      "photoUrl": "https://lh3.googleusercontent.com/a-/AOh14Gj1eoGgvQ7qj1ob3o2yAXUkB3bQZRzcxJjwvBgX=s64",
      "userId": "01613330058416384277"
     },
     "user_tz": 420
    },
    "id": "fhXT8Vb105o6"
   },
   "outputs": [],
   "source": [
    "class TransformerBlock(layers.Layer):\n",
    "    def __init__(self, embed_dim, num_heads, ff_dim, rate=0.15):\n",
    "        super(TransformerBlock, self).__init__()\n",
    "        self.att = layers.MultiHeadAttention(num_heads=num_heads, key_dim=embed_dim)\n",
    "        self.ffn = keras.Sequential(\n",
    "            [layers.Dense(ff_dim, activation=\"relu\"), layers.Dense(embed_dim),]\n",
    "        )\n",
    "        self.norm1 = layers.LayerNormalization(epsilon=1e-7)\n",
    "        self.norm2 = layers.LayerNormalization(epsilon=1e-7)\n",
    "        self.dropout1 = layers.Dropout(rate)\n",
    "        self.dropout2 = layers.Dropout(rate)\n",
    "\n",
    "    def call(self, inputs, training):\n",
    "        att1 = self.att(inputs, inputs)\n",
    "        out1 = self.dropout1(att1, training=training)\n",
    "        out1 = self.norm1(inputs + att1)\n",
    "        out2 = self.ffn(out1)\n",
    "        out2 = self.dropout2(out2, training=training)\n",
    "        return self.norm2(out1 + out2)\n",
    "\n",
    "class TokenAndPositionEmbedding(layers.Layer):\n",
    "    def __init__(self, maxlen, vocab_size, embed_dim):\n",
    "        super(TokenAndPositionEmbedding, self).__init__()\n",
    "        self.token_emb = layers.Embedding(input_dim=vocab_size, output_dim=embed_dim)\n",
    "        self.pos_emb = layers.Embedding(input_dim=maxlen, output_dim=embed_dim)\n",
    "\n",
    "    def call(self, x):\n",
    "        maxlen = tf.shape(x)[-1]\n",
    "        positions = tf.range(start=0, limit=maxlen, delta=1)\n",
    "        positions = self.pos_emb(positions)\n",
    "        x = self.token_emb(x)\n",
    "        return x + positions\n",
    "    \n",
    "# Adjust these to improve accuracies\n",
    "embed_dim = 32  # Embedding size for each token\n",
    "num_heads = 4  # Number of attention heads\n",
    "ff_dim = 32  # Hidden layer size in feed forward network inside transformer\n",
    "vocab_size = 200000\n",
    "\n",
    "inputs = layers.Input(shape=(maxlen,))\n",
    "embedding_layer = TokenAndPositionEmbedding(maxlen, vocab_size, embed_dim)\n",
    "x = embedding_layer(inputs)\n",
    "\n",
    "transformer_block1 = TransformerBlock(embed_dim, num_heads, ff_dim)\n",
    "x = transformer_block1(x)\n",
    "x = layers.GlobalAveragePooling1D()(x)\n",
    "x = layers.Dropout(0.15)(x)\n",
    "x = layers.Dense(ff_dim, activation=\"relu\")(x)\n",
    "x = layers.Dropout(0.15)(x)\n",
    "\n",
    "outputs = layers.Dense(6, activation=\"softmax\")(x)\n",
    "\n",
    "model = keras.Model(inputs=inputs, outputs=outputs)"
   ]
  },
  {
   "cell_type": "code",
   "execution_count": 17,
   "metadata": {
    "colab": {
     "base_uri": "https://localhost:8080/"
    },
    "executionInfo": {
     "elapsed": 4281843,
     "status": "ok",
     "timestamp": 1620193826047,
     "user": {
      "displayName": "Will Wang",
      "photoUrl": "https://lh3.googleusercontent.com/a-/AOh14Gj1eoGgvQ7qj1ob3o2yAXUkB3bQZRzcxJjwvBgX=s64",
      "userId": "01613330058416384277"
     },
     "user_tz": 420
    },
    "id": "K7xNoFq305o7",
    "outputId": "4e47f4b2-a9da-4d2e-b831-a9258ad81b2b"
   },
   "outputs": [
    {
     "name": "stdout",
     "output_type": "stream",
     "text": [
      "Epoch 1/5\n",
      "2335/2335 [==============================] - 577s 246ms/step - loss: 0.9421 - accuracy: 0.6485 - val_loss: 0.6635 - val_accuracy: 0.7397\n",
      "Epoch 2/5\n",
      "2335/2335 [==============================] - 601s 258ms/step - loss: 0.5807 - accuracy: 0.7747 - val_loss: 0.6780 - val_accuracy: 0.7357\n",
      "Epoch 3/5\n",
      "2335/2335 [==============================] - 561s 240ms/step - loss: 0.4960 - accuracy: 0.8070 - val_loss: 0.7672 - val_accuracy: 0.7295\n",
      "Epoch 4/5\n",
      "2335/2335 [==============================] - 571s 244ms/step - loss: 0.3937 - accuracy: 0.8498 - val_loss: 0.8462 - val_accuracy: 0.7202\n",
      "Epoch 5/5\n",
      "2335/2335 [==============================] - 569s 244ms/step - loss: 0.3119 - accuracy: 0.8834 - val_loss: 1.0487 - val_accuracy: 0.7078\n"
     ]
    }
   ],
   "source": [
    "model.compile(\"adam\", \"sparse_categorical_crossentropy\", metrics=[\"accuracy\"])\n",
    "history = model.fit(\n",
    "    train_x, train_y, batch_size=32, epochs=5, validation_data=(val_x, val_y)\n",
    ")"
   ]
  },
  {
   "cell_type": "code",
   "execution_count": 10,
   "metadata": {},
   "outputs": [
    {
     "data": {
      "text/plain": [
       "<matplotlib.legend.Legend at 0x7fe752c0b390>"
      ]
     },
     "execution_count": 10,
     "metadata": {},
     "output_type": "execute_result"
    },
    {
     "data": {
      "image/png": "[encoded data removed]",
      "text/plain": [
       "<Figure size 432x288 with 1 Axes>"
      ]
     },
     "metadata": {
      "needs_background": "light"
     },
     "output_type": "display_data"
    }
   ],
   "source": [
    "import matplotlib.pyplot as plt\n",
    "epochs = [1, 2, 3, 4, 5]\n",
    "ta = [0.6485, 0.7747, 0.8070, 0.8498, 0.8834]\n",
    "va = [0.7397, 0.7357, 0.7295, 0.7202, 0.7078]\n",
    "plt.plot(epochs, ta, label=\"Training Accuracy\")\n",
    "plt.plot(epochs, va, label=\"Validation Accuracy\")\n",
    "plt.title(\"Naive Model: Training and Validation Accuracies vs Number of Epochs\")\n",
    "plt.xlabel(\"Epochs\")\n",
    "plt.ylabel(\"Accuracies\")\n",
    "plt.legend()"
   ]
  },
  {
   "cell_type": "code",
   "execution_count": null,
   "metadata": {},
   "outputs": [],
   "source": []
  }
 ],
 "metadata": {
  "accelerator": "GPU",
  "colab": {
   "collapsed_sections": [],
   "name": "data_view.ipynb",
   "provenance": []
  },
  "kernelspec": {
   "display_name": "Python 3",
   "language": "python",
   "name": "python3"
  },
  "language_info": {
   "codemirror_mode": {
    "name": "ipython",
    "version": 3
   },
   "file_extension": ".py",
   "mimetype": "text/x-python",
   "name": "python",
   "nbconvert_exporter": "python",
   "pygments_lexer": "ipython3",
   "version": "3.7.4"
  }
 },
 "nbformat": 4,
 "nbformat_minor": 1
}
